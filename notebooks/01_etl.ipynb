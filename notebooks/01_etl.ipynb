{
 "cells": [
  {
   "cell_type": "markdown",
   "id": "eb5c6afc",
   "metadata": {},
   "source": [
    "# ETL"
   ]
  },
  {
   "cell_type": "markdown",
   "id": "7ad6a3e6",
   "metadata": {},
   "source": [
    "## Extracción"
   ]
  },
  {
   "cell_type": "code",
   "execution_count": 18,
   "id": "6c8a2baa",
   "metadata": {},
   "outputs": [],
   "source": [
    "import pandas as pd"
   ]
  },
  {
   "cell_type": "code",
   "execution_count": 19,
   "id": "5f2a3d94",
   "metadata": {},
   "outputs": [],
   "source": [
    "file_path = '../data/raw/base_datos_colombia.xlsx'\n",
    "xls = pd.read_excel(file_path, sheet_name=None, engine='openpyxl')"
   ]
  },
  {
   "cell_type": "code",
   "execution_count": 20,
   "id": "0ab86ed1",
   "metadata": {},
   "outputs": [],
   "source": [
    "# Convertir las hojas del archivo Excel en DataFrames\n",
    "df_compras = xls['compras']\n",
    "df_ventas = xls['ventas']\n",
    "df_productos = xls['productos']\n",
    "df_proveedores = xls['proveedores']\n",
    "df_promociones = xls.get('promociones')"
   ]
  },
  {
   "cell_type": "markdown",
   "id": "7d41b0ff",
   "metadata": {},
   "source": [
    "## Transformación"
   ]
  },
  {
   "cell_type": "markdown",
   "id": "cbe3dfec",
   "metadata": {},
   "source": [
    "### Typecasting"
   ]
  },
  {
   "cell_type": "code",
   "execution_count": 21,
   "id": "5b77ee73",
   "metadata": {},
   "outputs": [],
   "source": [
    "# Typecasting para df_compras\n",
    "df_compras = df_compras.astype({\n",
    "    'fecha': 'datetime64[ns]',\n",
    "    'sucursal': 'category',\n",
    "    'producto_id': 'category',\n",
    "    'unidades_compradas': 'int',\n",
    "    'costo_unitario': 'float',\n",
    "    'proveedor_id': 'category'\n",
    "})"
   ]
  },
  {
   "cell_type": "code",
   "execution_count": 22,
   "id": "5ebe805e",
   "metadata": {},
   "outputs": [],
   "source": [
    "df_ventas = df_ventas.astype({\n",
    "    'fecha': 'datetime64[ns]',\n",
    "    'sucursal': 'category',\n",
    "    'producto_id': 'category',\n",
    "    'unidades_vendidas': 'int',\n",
    "    'precio_venta': 'float'\n",
    "})"
   ]
  },
  {
   "cell_type": "code",
   "execution_count": 23,
   "id": "9f7e4a2e",
   "metadata": {},
   "outputs": [],
   "source": [
    "df_productos = df_productos.astype({\n",
    "    'producto_id': 'category',\n",
    "    'nombre_producto': 'category',\n",
    "    'categoria': 'category',\n",
    "    'marca': 'category',\n",
    "    'unidad_medida': 'category'\n",
    "})"
   ]
  },
  {
   "cell_type": "code",
   "execution_count": 24,
   "id": "0b9d5c1f",
   "metadata": {},
   "outputs": [],
   "source": [
    "df_proveedores = df_proveedores.astype({\n",
    "    'proveedor_id': 'category',\n",
    "    'nombre_proveedor': 'category',\n",
    "    'calificacion_proveedor': 'float',\n",
    "    'plazo_entrega_dias': 'int'\n",
    "})"
   ]
  },
  {
   "cell_type": "code",
   "execution_count": 25,
   "id": "b8cbf270",
   "metadata": {},
   "outputs": [],
   "source": [
    "\n",
    "if df_promociones is not None:\n",
    "    df_promociones = df_promociones.astype({\n",
    "        'producto_id': 'category',\n",
    "        'fecha_inicio': 'datetime64[ns]',\n",
    "        'fecha_fin': 'datetime64[ns]',\n",
    "        'tipo_promocion': 'category',\n",
    "        'descuento_porcentual': 'float'\n",
    "    })"
   ]
  },
  {
   "cell_type": "markdown",
   "id": "5b17ef6b",
   "metadata": {},
   "source": [
    "### Consolidación de tabla única"
   ]
  },
  {
   "cell_type": "markdown",
   "id": "5a1f6b46",
   "metadata": {},
   "source": [
    "#### 1. Crear una base de combinación de fechas, sucursales y productos"
   ]
  },
  {
   "cell_type": "code",
   "execution_count": 26,
   "id": "62a6bfd6",
   "metadata": {},
   "outputs": [],
   "source": [
    "# Rango de fechas\n",
    "fecha_min = min(df_compras['fecha'].min(), df_ventas['fecha'].min())\n",
    "fecha_max = max(df_compras['fecha'].max(), df_ventas['fecha'].max())\n",
    "fechas = pd.date_range(fecha_min, fecha_max, freq='D')\n",
    "\n",
    "# Todas las combinaciones posibles\n",
    "base = pd.MultiIndex.from_product(\n",
    "    [fechas, df_ventas['sucursal'].unique(), df_ventas['producto_id'].unique()],\n",
    "    names=['fecha', 'sucursal', 'producto_id']\n",
    ").to_frame(index=False)\n"
   ]
  },
  {
   "cell_type": "markdown",
   "id": "40642e85",
   "metadata": {},
   "source": [
    "#### 2. Integrar `df_ventas` y `df_compras` compras a la base"
   ]
  },
  {
   "cell_type": "code",
   "execution_count": 27,
   "id": "ee2c5dd9",
   "metadata": {},
   "outputs": [],
   "source": [
    "# Agrupar ventas por fecha, sucursal y producto\n",
    "ventas_agg = (\n",
    "    df_ventas\n",
    "    .groupby(['fecha', 'sucursal', 'producto_id'], observed=True)\n",
    "    .agg({\n",
    "        'unidades_vendidas': 'sum',\n",
    "        'precio_venta': 'mean' # Por si se vende un producto a diferentes precios\n",
    "    })\n",
    "    .reset_index()\n",
    ")\n"
   ]
  },
  {
   "cell_type": "code",
   "execution_count": 28,
   "id": "423ea234",
   "metadata": {},
   "outputs": [],
   "source": [
    "# Agrupar compras por fecha, sucursal y producto\n",
    "compras_agg = (\n",
    "    df_compras\n",
    "    .groupby(['fecha', 'sucursal', 'producto_id'], observed=True)\n",
    "    .agg({\n",
    "        'unidades_compradas': 'sum',\n",
    "        'costo_unitario': 'mean' # Por si se compra un producto a diferentes precios\n",
    "    })\n",
    "    .reset_index()\n",
    ")\n"
   ]
  },
  {
   "cell_type": "code",
   "execution_count": 29,
   "id": "0b6c827f",
   "metadata": {},
   "outputs": [],
   "source": [
    "\n",
    "# Merge con la base\n",
    "df = base.merge(ventas_agg, on=['fecha', 'sucursal', 'producto_id'], how='left')\n",
    "df = df.merge(compras_agg, on=['fecha', 'sucursal', 'producto_id'], how='left')\n"
   ]
  },
  {
   "cell_type": "code",
   "execution_count": 30,
   "id": "aac8ac5b",
   "metadata": {},
   "outputs": [],
   "source": [
    "# Rellenar valores nulos con 0\n",
    "df['unidades_vendidas'] = df['unidades_vendidas'].fillna(0).astype(int)\n",
    "df['precio_venta'] = df['precio_venta'].fillna(0)\n",
    "\n",
    "df['unidades_compradas'] = df['unidades_compradas'].fillna(0).astype(int)\n",
    "df['costo_unitario'] = df['costo_unitario'].fillna(0)\n"
   ]
  },
  {
   "cell_type": "markdown",
   "id": "4c4e553d",
   "metadata": {},
   "source": [
    "#### 3. Agregar datos de productos"
   ]
  },
  {
   "cell_type": "code",
   "execution_count": 31,
   "id": "c9d46f31",
   "metadata": {},
   "outputs": [],
   "source": [
    "df = df.merge(df_productos, on='producto_id', how='left')\n"
   ]
  },
  {
   "cell_type": "markdown",
   "id": "a6b5f370",
   "metadata": {},
   "source": [
    "#### 4. Calcular el márgen bruto"
   ]
  },
  {
   "cell_type": "code",
   "execution_count": 32,
   "id": "15134403",
   "metadata": {},
   "outputs": [],
   "source": [
    "df['margen_bruto'] = df['precio_venta'] - df['costo_unitario']\n"
   ]
  },
  {
   "cell_type": "markdown",
   "id": "70939293",
   "metadata": {},
   "source": [
    "#### 5. Flag de promociones (identificar si hay o no promoción ese día)"
   ]
  },
  {
   "cell_type": "code",
   "execution_count": 33,
   "id": "616071a7",
   "metadata": {},
   "outputs": [],
   "source": [
    "if df_promociones is not None:\n",
    "    # Expande las promociones a nivel día-producto\n",
    "    promos_expandidas = []\n",
    "    for _, row in df_promociones.iterrows():\n",
    "        dias = pd.date_range(row['fecha_inicio'], row['fecha_fin'])\n",
    "        for fecha in dias:\n",
    "            promos_expandidas.append({\n",
    "                'producto_id': row['producto_id'],\n",
    "                'fecha': fecha,\n",
    "                'tipo_promocion': row['tipo_promocion'],\n",
    "                'descuento_porcentual': row['descuento_porcentual']\n",
    "            })\n",
    "\n",
    "    df_promos_exp = pd.DataFrame(promos_expandidas)\n",
    "\n",
    "    # Merge con la tabla principal\n",
    "    df = df.merge(df_promos_exp, on=['producto_id', 'fecha'], how='left')\n",
    "\n",
    "    # Crea flags\n",
    "    df['producto_en_promocion'] = df['descuento_porcentual'].notna().astype(int)\n",
    "else:\n",
    "    df['producto_en_promocion'] = 0\n"
   ]
  },
  {
   "cell_type": "markdown",
   "id": "33df4cf0",
   "metadata": {},
   "source": [
    "## Carga"
   ]
  },
  {
   "cell_type": "code",
   "execution_count": 34,
   "id": "4accbc52",
   "metadata": {},
   "outputs": [],
   "source": [
    "df.to_csv('../data/processed/tabla_consolidada.csv', index=False)"
   ]
  }
 ],
 "metadata": {
  "kernelspec": {
   "display_name": ".venv",
   "language": "python",
   "name": "python3"
  },
  "language_info": {
   "codemirror_mode": {
    "name": "ipython",
    "version": 3
   },
   "file_extension": ".py",
   "mimetype": "text/x-python",
   "name": "python",
   "nbconvert_exporter": "python",
   "pygments_lexer": "ipython3",
   "version": "3.13.1"
  }
 },
 "nbformat": 4,
 "nbformat_minor": 5
}
