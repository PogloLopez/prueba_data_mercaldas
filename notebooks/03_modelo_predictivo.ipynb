{
 "cells": [
  {
   "cell_type": "markdown",
   "id": "f57e0f55",
   "metadata": {},
   "source": [
    "# Carga de datos"
   ]
  },
  {
   "cell_type": "code",
   "execution_count": 71,
   "id": "47397c7b",
   "metadata": {},
   "outputs": [],
   "source": [
    "import pandas as pd\n",
    "import numpy as np\n",
    "import matplotlib.pyplot as plt\n",
    "from sklearn.tree import DecisionTreeRegressor\n",
    "from sklearn.metrics import mean_absolute_error, mean_squared_error\n",
    "import os\n",
    "import sys\n",
    "\n",
    "sys.path.append(os.path.join(os.getcwd(), '..'))  # Para importar desde utils/\n",
    "from utils.data_loader import cargar_datos_ventas"
   ]
  },
  {
   "cell_type": "code",
   "execution_count": 72,
   "id": "56fcdf89",
   "metadata": {},
   "outputs": [],
   "source": [
    "df = cargar_datos_ventas()"
   ]
  },
  {
   "cell_type": "markdown",
   "id": "7be7bb05",
   "metadata": {},
   "source": [
    "# Esquema para el modelo"
   ]
  },
  {
   "cell_type": "markdown",
   "id": "317edd55",
   "metadata": {},
   "source": [
    "## Elaboración de DataFrame con base semanal"
   ]
  },
  {
   "cell_type": "markdown",
   "id": "4c6789c8",
   "metadata": {},
   "source": [
    "El modelo será diseñado para el top 5 de productos más vendidos"
   ]
  },
  {
   "cell_type": "code",
   "execution_count": 73,
   "id": "3b47c7a0",
   "metadata": {},
   "outputs": [],
   "source": [
    "# Identificamos top 5 productos por ventas\n",
    "top5_productos = (\n",
    "    df.groupby('nombre_producto', observed=True)['unidades_vendidas']\n",
    "    .sum()\n",
    "    .sort_values(ascending=False)\n",
    "    .head(5)\n",
    "    .index\n",
    "    .tolist()\n",
    ")"
   ]
  },
  {
   "cell_type": "code",
   "execution_count": 74,
   "id": "df7bd2cb",
   "metadata": {},
   "outputs": [],
   "source": [
    "# Filtramos el DataFrame para incluir solo los productos del top 5\n",
    "df_filtrado = df[df['nombre_producto'].isin(top5_productos)]\n"
   ]
  },
  {
   "cell_type": "code",
   "execution_count": 75,
   "id": "d4a2293e",
   "metadata": {},
   "outputs": [],
   "source": [
    "# Trabajaremos por semana para evitar ruido en el modelo\n",
    "df_semana = (\n",
    "    df_filtrado\n",
    "    .assign(semana=lambda d: d['fecha'].dt.to_period('W').apply(lambda r: r.start_time))\n",
    "    .groupby(['semana', 'sucursal', 'producto_id', 'nombre_producto'], observed=True)\n",
    "    .agg(\n",
    "        unidades_vendidas=('unidades_vendidas', 'sum'),\n",
    "        precio_promedio=('precio_venta', 'mean'),\n",
    "        en_promocion=('producto_en_promocion', 'max')\n",
    "    )\n",
    "    .reset_index()\n",
    ")\n"
   ]
  },
  {
   "cell_type": "markdown",
   "id": "aa99eee8",
   "metadata": {},
   "source": [
    "## Construcción de variables para el modelo"
   ]
  },
  {
   "cell_type": "code",
   "execution_count": 76,
   "id": "e69bec1d",
   "metadata": {},
   "outputs": [],
   "source": [
    "# Aseguramos que esté en orden de producto, sucursal y semana\n",
    "df_semana = df_semana.sort_values(['producto_id', 'sucursal', 'semana'])\n"
   ]
  },
  {
   "cell_type": "code",
   "execution_count": 77,
   "id": "61dc643f",
   "metadata": {},
   "outputs": [],
   "source": [
    "# Ventas semana anterior\n",
    "df_semana['ventas_semana_anterior'] = (\n",
    "    df_semana\n",
    "    .groupby(['producto_id', 'sucursal'], observed=True)['unidades_vendidas']\n",
    "    .shift(1)\n",
    ")"
   ]
  },
  {
   "cell_type": "code",
   "execution_count": 78,
   "id": "b94b487e",
   "metadata": {},
   "outputs": [],
   "source": [
    "# Ventas ultimas 4 semanas\n",
    "df_semana['promedio_ultimas_4_semanas'] = (\n",
    "    df_semana\n",
    "    .groupby(['producto_id', 'sucursal'], observed=True)['unidades_vendidas']\n",
    "    .rolling(window=4, min_periods=1)\n",
    "    .mean()\n",
    "    .shift(1)\n",
    "    .reset_index(level=[0,1], drop=True)\n",
    ")"
   ]
  },
  {
   "cell_type": "code",
   "execution_count": 79,
   "id": "b2638777",
   "metadata": {},
   "outputs": [],
   "source": [
    "# Precio medio del producto en la semana\n",
    "precio_medio_producto = df_semana.groupby('producto_id', observed=True)['precio_promedio'].transform('mean')\n",
    "df_semana['precio_vs_medio_producto'] = df_semana['precio_promedio'] / precio_medio_producto\n"
   ]
  },
  {
   "cell_type": "code",
   "execution_count": 80,
   "id": "e39c1633",
   "metadata": {},
   "outputs": [],
   "source": [
    "# Variables de calendario\n",
    "df_semana['semana_del_año'] = df_semana['semana'].dt.isocalendar().week\n",
    "df_semana['mes'] = df_semana['semana'].dt.month\n"
   ]
  },
  {
   "cell_type": "markdown",
   "id": "1ff6f77a",
   "metadata": {},
   "source": [
    "## DataFrame para el modelo"
   ]
  },
  {
   "cell_type": "markdown",
   "id": "d94a41f8",
   "metadata": {},
   "source": [
    "### Validación de datos nulos"
   ]
  },
  {
   "cell_type": "code",
   "execution_count": 81,
   "id": "067725cf",
   "metadata": {},
   "outputs": [
    {
     "data": {
      "text/plain": [
       "ventas_semana_anterior        20\n",
       "promedio_ultimas_4_semanas     1\n",
       "precio_vs_medio_producto       0\n",
       "dtype: int64"
      ]
     },
     "execution_count": 81,
     "metadata": {},
     "output_type": "execute_result"
    }
   ],
   "source": [
    "df_semana[['ventas_semana_anterior', 'promedio_ultimas_4_semanas', 'precio_vs_medio_producto']].isna().sum()\n"
   ]
  },
  {
   "cell_type": "code",
   "execution_count": 82,
   "id": "331eda6b",
   "metadata": {},
   "outputs": [],
   "source": [
    "# Eliminamos filas con NaN en las variables de interés\n",
    "df_semana_notnull = df_semana.dropna(subset=[\n",
    "    'ventas_semana_anterior',\n",
    "    'promedio_ultimas_4_semanas'\n",
    "])\n"
   ]
  },
  {
   "cell_type": "markdown",
   "id": "303a835b",
   "metadata": {},
   "source": [
    "### Validación de Outliers"
   ]
  },
  {
   "cell_type": "code",
   "execution_count": 83,
   "id": "1ddc3b21",
   "metadata": {},
   "outputs": [
    {
     "data": {
      "text/html": [
       "<div>\n",
       "<style scoped>\n",
       "    .dataframe tbody tr th:only-of-type {\n",
       "        vertical-align: middle;\n",
       "    }\n",
       "\n",
       "    .dataframe tbody tr th {\n",
       "        vertical-align: top;\n",
       "    }\n",
       "\n",
       "    .dataframe thead th {\n",
       "        text-align: right;\n",
       "    }\n",
       "</style>\n",
       "<table border=\"1\" class=\"dataframe\">\n",
       "  <thead>\n",
       "    <tr style=\"text-align: right;\">\n",
       "      <th></th>\n",
       "      <th>ventas_semana_anterior</th>\n",
       "      <th>promedio_ultimas_4_semanas</th>\n",
       "      <th>precio_vs_medio_producto</th>\n",
       "    </tr>\n",
       "  </thead>\n",
       "  <tbody>\n",
       "    <tr>\n",
       "      <th>count</th>\n",
       "      <td>2520.000000</td>\n",
       "      <td>2520.000000</td>\n",
       "      <td>2520.000000</td>\n",
       "    </tr>\n",
       "    <tr>\n",
       "      <th>mean</th>\n",
       "      <td>0.400794</td>\n",
       "      <td>0.400794</td>\n",
       "      <td>1.007936</td>\n",
       "    </tr>\n",
       "    <tr>\n",
       "      <th>std</th>\n",
       "      <td>3.768046</td>\n",
       "      <td>1.851761</td>\n",
       "      <td>9.434474</td>\n",
       "    </tr>\n",
       "    <tr>\n",
       "      <th>min</th>\n",
       "      <td>0.000000</td>\n",
       "      <td>0.000000</td>\n",
       "      <td>0.000000</td>\n",
       "    </tr>\n",
       "    <tr>\n",
       "      <th>25%</th>\n",
       "      <td>0.000000</td>\n",
       "      <td>0.000000</td>\n",
       "      <td>0.000000</td>\n",
       "    </tr>\n",
       "    <tr>\n",
       "      <th>50%</th>\n",
       "      <td>0.000000</td>\n",
       "      <td>0.000000</td>\n",
       "      <td>0.000000</td>\n",
       "    </tr>\n",
       "    <tr>\n",
       "      <th>75%</th>\n",
       "      <td>0.000000</td>\n",
       "      <td>0.000000</td>\n",
       "      <td>0.000000</td>\n",
       "    </tr>\n",
       "    <tr>\n",
       "      <th>max</th>\n",
       "      <td>48.000000</td>\n",
       "      <td>12.000000</td>\n",
       "      <td>140.950668</td>\n",
       "    </tr>\n",
       "  </tbody>\n",
       "</table>\n",
       "</div>"
      ],
      "text/plain": [
       "       ventas_semana_anterior  promedio_ultimas_4_semanas  \\\n",
       "count             2520.000000                 2520.000000   \n",
       "mean                 0.400794                    0.400794   \n",
       "std                  3.768046                    1.851761   \n",
       "min                  0.000000                    0.000000   \n",
       "25%                  0.000000                    0.000000   \n",
       "50%                  0.000000                    0.000000   \n",
       "75%                  0.000000                    0.000000   \n",
       "max                 48.000000                   12.000000   \n",
       "\n",
       "       precio_vs_medio_producto  \n",
       "count               2520.000000  \n",
       "mean                   1.007936  \n",
       "std                    9.434474  \n",
       "min                    0.000000  \n",
       "25%                    0.000000  \n",
       "50%                    0.000000  \n",
       "75%                    0.000000  \n",
       "max                  140.950668  "
      ]
     },
     "execution_count": 83,
     "metadata": {},
     "output_type": "execute_result"
    }
   ],
   "source": [
    "df_semana_notnull[['ventas_semana_anterior', 'promedio_ultimas_4_semanas', 'precio_vs_medio_producto']].describe()\n"
   ]
  },
  {
   "cell_type": "code",
   "execution_count": 84,
   "id": "52df4321",
   "metadata": {},
   "outputs": [],
   "source": [
    "# Calculamos el IQR usando solo filas con ventas > 0\n",
    "ventas_positivas = df_semana_notnull[df_semana_notnull['unidades_vendidas'] > 0]\n",
    "q1 = ventas_positivas['precio_vs_medio_producto'].quantile(0.25)\n",
    "q3 = ventas_positivas['precio_vs_medio_producto'].quantile(0.75)\n",
    "iqr = q3 - q1\n",
    "\n",
    "# Aplicamos el filtro sobre todo el dataset\n",
    "df_no_outliers = df_semana_notnull[\n",
    "    df_semana_notnull['precio_vs_medio_producto'].between(q1 - 1.5 * iqr, q3 + 1.5 * iqr)\n",
    "].copy()\n"
   ]
  },
  {
   "cell_type": "markdown",
   "id": "7b4b48f1",
   "metadata": {},
   "source": [
    "### DataFrame final"
   ]
  },
  {
   "cell_type": "code",
   "execution_count": 85,
   "id": "ac36b3e4",
   "metadata": {},
   "outputs": [],
   "source": [
    "df_modelo = df_no_outliers.copy()"
   ]
  },
  {
   "cell_type": "markdown",
   "id": "4bea0678",
   "metadata": {},
   "source": [
    "#### Breve verificación del DataFrame tras el tratamiento de nulls y outliers"
   ]
  },
  {
   "cell_type": "code",
   "execution_count": 86,
   "id": "fcbc16dc",
   "metadata": {},
   "outputs": [
    {
     "name": "stdout",
     "output_type": "stream",
     "text": [
      "Número total de filas de df_semana: 2540\n",
      "Número total de filas de df_modelo: 30\n",
      "Diferencia de filas: 2510\n"
     ]
    }
   ],
   "source": [
    "print(f\"Número total de filas de df_semana: {len(df_semana)}\")\n",
    "\n",
    "print(f\"Número total de filas de df_modelo: {len(df_modelo)}\")\n",
    "\n",
    "print(f\"Diferencia de filas: {len(df_semana) - len(df_modelo)}\")\n"
   ]
  },
  {
   "cell_type": "code",
   "execution_count": 87,
   "id": "25ee1346",
   "metadata": {},
   "outputs": [
    {
     "name": "stdout",
     "output_type": "stream",
     "text": [
      "Productos únicos: 5\n",
      "Sucursales únicas: 4\n"
     ]
    }
   ],
   "source": [
    "print(\"Productos únicos:\", df_modelo['producto_id'].nunique())\n",
    "print(\"Sucursales únicas:\", df_modelo['sucursal'].nunique())\n"
   ]
  },
  {
   "cell_type": "code",
   "execution_count": 88,
   "id": "5997a311",
   "metadata": {},
   "outputs": [
    {
     "data": {
      "text/plain": [
       "count    30.000000\n",
       "mean     31.566667\n",
       "std      12.158957\n",
       "min       8.000000\n",
       "25%      20.750000\n",
       "50%      34.000000\n",
       "75%      42.500000\n",
       "max      48.000000\n",
       "Name: unidades_vendidas, dtype: float64"
      ]
     },
     "execution_count": 88,
     "metadata": {},
     "output_type": "execute_result"
    }
   ],
   "source": [
    "df_modelo['unidades_vendidas'].describe()\n"
   ]
  },
  {
   "cell_type": "markdown",
   "id": "5e0a38fc",
   "metadata": {},
   "source": [
    "# Entrenamiento de modelos"
   ]
  },
  {
   "cell_type": "markdown",
   "id": "f9d99a80",
   "metadata": {},
   "source": [
    "## Prelims"
   ]
  },
  {
   "cell_type": "markdown",
   "id": "a7e5c9cf",
   "metadata": {},
   "source": [
    "### 1. División de datos: entrenamiento y prueba"
   ]
  },
  {
   "cell_type": "code",
   "execution_count": 89,
   "id": "b300839f",
   "metadata": {},
   "outputs": [],
   "source": [
    "# División en series de tiempo (se usa el 60% en vez del 80% para evitar que el test sea muy pequeño, dada la poca cantidad de datos)\n",
    "# Fecha límite para división: 60% más antigua -> train, 40% más reciente -> test\n",
    "fecha_split = df_modelo['semana'].sort_values().quantile(0.6)\n",
    "\n",
    "df_train = df_modelo[df_modelo['semana'] <= fecha_split]\n",
    "df_test  = df_modelo[df_modelo['semana'] > fecha_split]\n"
   ]
  },
  {
   "cell_type": "markdown",
   "id": "7e0a8617",
   "metadata": {},
   "source": [
    "### 2. Selección de variables (X) y objetivo (y)"
   ]
  },
  {
   "cell_type": "code",
   "execution_count": 90,
   "id": "c4de8fd3",
   "metadata": {},
   "outputs": [],
   "source": [
    "features = [\n",
    "    'ventas_semana_anterior',\n",
    "    'promedio_ultimas_4_semanas',\n",
    "    'precio_vs_medio_producto',\n",
    "    'en_promocion',\n",
    "    'semana_del_año',\n",
    "    'mes'\n",
    "]\n",
    "\n",
    "X_train = df_train[features]\n",
    "y_train = df_train['unidades_vendidas']\n",
    "\n",
    "X_test = df_test[features]\n",
    "y_test = df_test['unidades_vendidas']\n"
   ]
  },
  {
   "cell_type": "markdown",
   "id": "6e07c82f",
   "metadata": {},
   "source": [
    "## Modelos"
   ]
  },
  {
   "cell_type": "markdown",
   "id": "5eb2b865",
   "metadata": {},
   "source": [
    "### 1. DecisionTree"
   ]
  },
  {
   "cell_type": "code",
   "execution_count": 91,
   "id": "3c1b3bd8",
   "metadata": {},
   "outputs": [],
   "source": [
    "tree_model = DecisionTreeRegressor(max_depth=5, random_state=42)\n",
    "tree_model.fit(X_train, y_train)\n",
    "\n",
    "y_pred_tree = tree_model.predict(X_test)\n",
    "\n",
    "mae_tree = mean_absolute_error(y_test, y_pred_tree)\n",
    "rmse_tree = np.sqrt(mean_squared_error(y_test, y_pred_tree))\n"
   ]
  },
  {
   "cell_type": "markdown",
   "id": "cd448478",
   "metadata": {},
   "source": [
    "#### Resultados"
   ]
  },
  {
   "cell_type": "code",
   "execution_count": 92,
   "id": "c217c112",
   "metadata": {},
   "outputs": [
    {
     "name": "stdout",
     "output_type": "stream",
     "text": [
      "[Decision Tree] Número de filas en el conjunto de entrenamiento: 18\n",
      "[Decision Tree] MAE: 15.33\n",
      "[Decision Tree] RMSE: 20.17\n"
     ]
    }
   ],
   "source": [
    "# Resultados del modelo\n",
    "print(f'[Decision Tree] Número de filas en el conjunto de entrenamiento: {len(X_train)}')\n",
    "print(f'[Decision Tree] MAE: {mae_tree:.2f}')\n",
    "print(f'[Decision Tree] RMSE: {rmse_tree:.2f}')\n"
   ]
  },
  {
   "cell_type": "code",
   "execution_count": 93,
   "id": "2f03e140",
   "metadata": {},
   "outputs": [
    {
     "data": {
      "image/png": "[encoded data removed]",
      "text/plain": [
       "<Figure size 800x500 with 1 Axes>"
      ]
     },
     "metadata": {},
     "output_type": "display_data"
    }
   ],
   "source": [
    "plt.figure(figsize=(8, 5))\n",
    "plt.scatter(y_test, y_pred_tree, alpha=0.6)\n",
    "plt.plot([y_test.min(), y_test.max()], [y_test.min(), y_test.max()], 'r--')\n",
    "plt.xlabel('Unidades reales')\n",
    "plt.ylabel('Unidades predichas')\n",
    "plt.title('Predicción vs Realidad - Árbol de Decisión')\n",
    "plt.grid(True)\n",
    "plt.show()\n"
   ]
  },
  {
   "cell_type": "code",
   "execution_count": 94,
   "id": "d6047c31",
   "metadata": {},
   "outputs": [
    {
     "name": "stdout",
     "output_type": "stream",
     "text": [
      "                     variable  importancia\n",
      "2    precio_vs_medio_producto     0.473322\n",
      "4              semana_del_año     0.293639\n",
      "5                         mes     0.233039\n",
      "0      ventas_semana_anterior     0.000000\n",
      "1  promedio_ultimas_4_semanas     0.000000\n",
      "3                en_promocion     0.000000\n"
     ]
    }
   ],
   "source": [
    "import pandas as pd\n",
    "\n",
    "importancia = pd.DataFrame({\n",
    "    'variable': X_train.columns,\n",
    "    'importancia': tree_model.feature_importances_\n",
    "}).sort_values(by='importancia', ascending=False)\n",
    "\n",
    "print(importancia)\n"
   ]
  },
  {
   "cell_type": "markdown",
   "id": "06b62d16",
   "metadata": {},
   "source": [
    "#### Análisis"
   ]
  },
  {
   "cell_type": "markdown",
   "id": "9d9148b5",
   "metadata": {},
   "source": [
    "El modelo de árbol de decisión entrenado presenta un **MAE de 15.33** y un **RMSE de 20.17**, lo cual indica un error promedio considerable al predecir la demanda semanal. Al analizar la gráfica de predicción vs. realidad, se evidencia una alta dispersión respecto a la línea ideal, con casos de **subestimación y sobreestimación severas**.\n",
    "\n",
    "Además, el análisis de importancia de variables revela que el modelo se apoya principalmente en el precio_vs_medio_producto y variables de calendario (semana_del_año, mes), pero **ignora completamente** variables clave como ventas_semana_anterior, promedio_ultimas_4_semanas y en_promocion. Este patrón sugiere que el árbol no logró capturar adecuadamente la **dependencia temporal ni la influencia promocional**, probablemente por la poca cantidad de datos y la naturaleza limitada del algoritmo.\n",
    "\n",
    "En resumen, este modelo base ofrece una primera aproximación útil, pero **no generaliza bien** y no logra explotar adecuadamente las variables históricas más relevantes para la predicción de demanda. Se recomienda probar un modelo más robusto como **Random Forest** para mejorar la estabilidad y capacidad predictiva."
   ]
  }
 ],
 "metadata": {
  "kernelspec": {
   "display_name": ".venv",
   "language": "python",
   "name": "python3"
  },
  "language_info": {
   "codemirror_mode": {
    "name": "ipython",
    "version": 3
   },
   "file_extension": ".py",
   "mimetype": "text/x-python",
   "name": "python",
   "nbconvert_exporter": "python",
   "pygments_lexer": "ipython3",
   "version": "3.13.1"
  }
 },
 "nbformat": 4,
 "nbformat_minor": 5
}
