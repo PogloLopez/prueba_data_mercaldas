{
 "cells": [
  {
   "cell_type": "markdown",
   "id": "b6ffa669",
   "metadata": {},
   "source": [
    "# Extracción de datos"
   ]
  },
  {
   "cell_type": "code",
   "execution_count": 54,
   "id": "548bd03d",
   "metadata": {},
   "outputs": [],
   "source": [
    "import pandas as pd\n",
    "from datetime import timedelta\n",
    "import matplotlib.pyplot as plt\n",
    "import seaborn as sns\n",
    "from scipy.stats import zscore"
   ]
  },
  {
   "cell_type": "code",
   "execution_count": 26,
   "id": "ba1248dd",
   "metadata": {},
   "outputs": [],
   "source": [
    "# Esquema de tipos para leer el CSV procesado\n",
    "dtype_dict = {\n",
    "    'sucursal': 'category',\n",
    "    'producto_id': 'category',\n",
    "    'unidades_vendidas': 'int16',\n",
    "    'precio_venta': 'float32',\n",
    "    'unidades_compradas': 'int16',\n",
    "    'costo_unitario': 'float32',\n",
    "    'margen_bruto': 'float32',\n",
    "    'nombre_producto': 'category',\n",
    "    'categoria': 'category',\n",
    "    'marca': 'category',\n",
    "    'unidad_medida': 'category',\n",
    "    'tipo_promocion': 'category',\n",
    "    'descuento_porcentual': 'float32',\n",
    "    'producto_en_promocion': 'int8'\n",
    "}\n",
    "\n",
    "# Cargar el DataFrame y aplicar el esquema de tipos\n",
    "df = pd.read_csv(\n",
    "    '../data/processed/tabla_consolidada.csv',\n",
    "    parse_dates=['fecha'],\n",
    "    dtype=dtype_dict,\n",
    "    low_memory=False\n",
    ")\n"
   ]
  },
  {
   "cell_type": "markdown",
   "id": "65071265",
   "metadata": {},
   "source": [
    "# Análisis estratégico"
   ]
  },
  {
   "cell_type": "markdown",
   "id": "775d224a",
   "metadata": {},
   "source": [
    "## Top productos con mayor rotación por sucursal en el último semestre"
   ]
  },
  {
   "cell_type": "code",
   "execution_count": 27,
   "id": "a8a135b1",
   "metadata": {},
   "outputs": [],
   "source": [
    "# Fecha de corte para el semestre\n",
    "fecha_limite = df['fecha'].max() - pd.DateOffset(months=6)\n",
    "\n",
    "# Top 10 productos por sucursal en el último semestre\n",
    "top10_rotacion = (\n",
    "    df[df['fecha'] >= fecha_limite]\n",
    "    .groupby(['sucursal', 'producto_id'], as_index=False, observed=True)['unidades_vendidas']\n",
    "    .sum()\n",
    "    .query('unidades_vendidas > 0')\n",
    "    .sort_values(['sucursal', 'unidades_vendidas'], ascending=[True, False])\n",
    "    .groupby('sucursal', observed=True)\n",
    "    .head(10)\n",
    "    .merge(df[['producto_id', 'nombre_producto', 'categoria']].drop_duplicates(), on='producto_id', how='left')\n",
    ")\n"
   ]
  },
  {
   "cell_type": "code",
   "execution_count": 28,
   "id": "577ee931",
   "metadata": {},
   "outputs": [
    {
     "data": {
      "text/html": [
       "<div>\n",
       "<style scoped>\n",
       "    .dataframe tbody tr th:only-of-type {\n",
       "        vertical-align: middle;\n",
       "    }\n",
       "\n",
       "    .dataframe tbody tr th {\n",
       "        vertical-align: top;\n",
       "    }\n",
       "\n",
       "    .dataframe thead th {\n",
       "        text-align: right;\n",
       "    }\n",
       "</style>\n",
       "<table border=\"1\" class=\"dataframe\">\n",
       "  <thead>\n",
       "    <tr style=\"text-align: right;\">\n",
       "      <th></th>\n",
       "      <th>sucursal</th>\n",
       "      <th>producto_id</th>\n",
       "      <th>unidades_vendidas</th>\n",
       "      <th>nombre_producto</th>\n",
       "      <th>categoria</th>\n",
       "    </tr>\n",
       "  </thead>\n",
       "  <tbody>\n",
       "    <tr>\n",
       "      <th>0</th>\n",
       "      <td>Sucursal Este</td>\n",
       "      <td>P009</td>\n",
       "      <td>43</td>\n",
       "      <td>Producto 9</td>\n",
       "      <td>Lácteos</td>\n",
       "    </tr>\n",
       "    <tr>\n",
       "      <th>1</th>\n",
       "      <td>Sucursal Este</td>\n",
       "      <td>P020</td>\n",
       "      <td>41</td>\n",
       "      <td>Producto 20</td>\n",
       "      <td>Limpieza</td>\n",
       "    </tr>\n",
       "    <tr>\n",
       "      <th>2</th>\n",
       "      <td>Sucursal Este</td>\n",
       "      <td>P019</td>\n",
       "      <td>19</td>\n",
       "      <td>Producto 19</td>\n",
       "      <td>Lácteos</td>\n",
       "    </tr>\n",
       "    <tr>\n",
       "      <th>3</th>\n",
       "      <td>Sucursal Este</td>\n",
       "      <td>P007</td>\n",
       "      <td>5</td>\n",
       "      <td>Producto 7</td>\n",
       "      <td>Bebidas</td>\n",
       "    </tr>\n",
       "    <tr>\n",
       "      <th>4</th>\n",
       "      <td>Sucursal Este</td>\n",
       "      <td>P015</td>\n",
       "      <td>3</td>\n",
       "      <td>Producto 15</td>\n",
       "      <td>Bebidas</td>\n",
       "    </tr>\n",
       "    <tr>\n",
       "      <th>5</th>\n",
       "      <td>Sucursal Norte</td>\n",
       "      <td>P003</td>\n",
       "      <td>46</td>\n",
       "      <td>Producto 3</td>\n",
       "      <td>Limpieza</td>\n",
       "    </tr>\n",
       "    <tr>\n",
       "      <th>6</th>\n",
       "      <td>Sucursal Norte</td>\n",
       "      <td>P013</td>\n",
       "      <td>41</td>\n",
       "      <td>Producto 13</td>\n",
       "      <td>Snacks</td>\n",
       "    </tr>\n",
       "    <tr>\n",
       "      <th>7</th>\n",
       "      <td>Sucursal Norte</td>\n",
       "      <td>P017</td>\n",
       "      <td>35</td>\n",
       "      <td>Producto 17</td>\n",
       "      <td>Lácteos</td>\n",
       "    </tr>\n",
       "    <tr>\n",
       "      <th>8</th>\n",
       "      <td>Sucursal Norte</td>\n",
       "      <td>P007</td>\n",
       "      <td>31</td>\n",
       "      <td>Producto 7</td>\n",
       "      <td>Bebidas</td>\n",
       "    </tr>\n",
       "    <tr>\n",
       "      <th>9</th>\n",
       "      <td>Sucursal Norte</td>\n",
       "      <td>P001</td>\n",
       "      <td>29</td>\n",
       "      <td>Producto 1</td>\n",
       "      <td>Bebidas</td>\n",
       "    </tr>\n",
       "    <tr>\n",
       "      <th>10</th>\n",
       "      <td>Sucursal Oeste</td>\n",
       "      <td>P011</td>\n",
       "      <td>56</td>\n",
       "      <td>Producto 11</td>\n",
       "      <td>Bebidas</td>\n",
       "    </tr>\n",
       "    <tr>\n",
       "      <th>11</th>\n",
       "      <td>Sucursal Oeste</td>\n",
       "      <td>P003</td>\n",
       "      <td>48</td>\n",
       "      <td>Producto 3</td>\n",
       "      <td>Limpieza</td>\n",
       "    </tr>\n",
       "    <tr>\n",
       "      <th>12</th>\n",
       "      <td>Sucursal Oeste</td>\n",
       "      <td>P017</td>\n",
       "      <td>40</td>\n",
       "      <td>Producto 17</td>\n",
       "      <td>Lácteos</td>\n",
       "    </tr>\n",
       "    <tr>\n",
       "      <th>13</th>\n",
       "      <td>Sucursal Oeste</td>\n",
       "      <td>P008</td>\n",
       "      <td>17</td>\n",
       "      <td>Producto 8</td>\n",
       "      <td>Bebidas</td>\n",
       "    </tr>\n",
       "    <tr>\n",
       "      <th>14</th>\n",
       "      <td>Sucursal Oeste</td>\n",
       "      <td>P004</td>\n",
       "      <td>1</td>\n",
       "      <td>Producto 4</td>\n",
       "      <td>Snacks</td>\n",
       "    </tr>\n",
       "    <tr>\n",
       "      <th>15</th>\n",
       "      <td>Sucursal Sur</td>\n",
       "      <td>P009</td>\n",
       "      <td>42</td>\n",
       "      <td>Producto 9</td>\n",
       "      <td>Lácteos</td>\n",
       "    </tr>\n",
       "    <tr>\n",
       "      <th>16</th>\n",
       "      <td>Sucursal Sur</td>\n",
       "      <td>P016</td>\n",
       "      <td>28</td>\n",
       "      <td>Producto 16</td>\n",
       "      <td>Snacks</td>\n",
       "    </tr>\n",
       "    <tr>\n",
       "      <th>17</th>\n",
       "      <td>Sucursal Sur</td>\n",
       "      <td>P002</td>\n",
       "      <td>24</td>\n",
       "      <td>Producto 2</td>\n",
       "      <td>Bebidas</td>\n",
       "    </tr>\n",
       "    <tr>\n",
       "      <th>18</th>\n",
       "      <td>Sucursal Sur</td>\n",
       "      <td>P010</td>\n",
       "      <td>6</td>\n",
       "      <td>Producto 10</td>\n",
       "      <td>Bebidas</td>\n",
       "    </tr>\n",
       "  </tbody>\n",
       "</table>\n",
       "</div>"
      ],
      "text/plain": [
       "          sucursal producto_id  unidades_vendidas nombre_producto categoria\n",
       "0    Sucursal Este        P009                 43      Producto 9   Lácteos\n",
       "1    Sucursal Este        P020                 41     Producto 20  Limpieza\n",
       "2    Sucursal Este        P019                 19     Producto 19   Lácteos\n",
       "3    Sucursal Este        P007                  5      Producto 7   Bebidas\n",
       "4    Sucursal Este        P015                  3     Producto 15   Bebidas\n",
       "5   Sucursal Norte        P003                 46      Producto 3  Limpieza\n",
       "6   Sucursal Norte        P013                 41     Producto 13    Snacks\n",
       "7   Sucursal Norte        P017                 35     Producto 17   Lácteos\n",
       "8   Sucursal Norte        P007                 31      Producto 7   Bebidas\n",
       "9   Sucursal Norte        P001                 29      Producto 1   Bebidas\n",
       "10  Sucursal Oeste        P011                 56     Producto 11   Bebidas\n",
       "11  Sucursal Oeste        P003                 48      Producto 3  Limpieza\n",
       "12  Sucursal Oeste        P017                 40     Producto 17   Lácteos\n",
       "13  Sucursal Oeste        P008                 17      Producto 8   Bebidas\n",
       "14  Sucursal Oeste        P004                  1      Producto 4    Snacks\n",
       "15    Sucursal Sur        P009                 42      Producto 9   Lácteos\n",
       "16    Sucursal Sur        P016                 28     Producto 16    Snacks\n",
       "17    Sucursal Sur        P002                 24      Producto 2   Bebidas\n",
       "18    Sucursal Sur        P010                  6     Producto 10   Bebidas"
      ]
     },
     "execution_count": 28,
     "metadata": {},
     "output_type": "execute_result"
    }
   ],
   "source": [
    "top10_rotacion"
   ]
  },
  {
   "cell_type": "markdown",
   "id": "cef03ff9",
   "metadata": {},
   "source": [
    "### Análisis:"
   ]
  },
  {
   "cell_type": "markdown",
   "id": "6622cab2",
   "metadata": {},
   "source": [
    "El análisis de rotación de productos por sucursal durante el último semestre revela patrones consistentes de consumo que pueden guiar decisiones estratégicas de abastecimiento y promociones.\n",
    "\n",
    "Lácteos y Bebidas dominan las listas en todas las sucursales, lo cual sugiere una alta frecuencia de consumo y necesidad de mantener inventarios estables en estas categorías.\n",
    "\n",
    "Productos como \"Producto 9\" (Lácteos) y \"Producto 3\" (Limpieza) destacan en más de una sucursal, indicando que tienen potencial para negociaciones centralizadas con proveedores o para campañas de promoción regionales.\n",
    "\n",
    "Algunas sucursales presentan productos de bajo volumen dentro del top (por ejemplo, Producto 4 con solo 1 unidad en Sucursal Oeste), lo cual puede indicar baja rotación general en esa categoría o surtido ineficiente.\n",
    "\n",
    "Este análisis puede usarse como punto de partida para revisar el mix de productos por zona, reforzar el abastecimiento de productos de alta demanda y revisar la rentabilidad de los más vendidos."
   ]
  },
  {
   "cell_type": "markdown",
   "id": "56332974",
   "metadata": {},
   "source": [
    "## ~~Quiebres de inventario~~"
   ]
  },
  {
   "cell_type": "markdown",
   "id": "970c8a28",
   "metadata": {},
   "source": [
    "Análisis descartado para interpretación y toma estratégica de decisiones. Se mantiene la lógica que lleva a esa decisión:"
   ]
  },
  {
   "cell_type": "code",
   "execution_count": 55,
   "id": "bb02d18e",
   "metadata": {},
   "outputs": [],
   "source": [
    "# Paso 1: promedio histórico por producto y sucursal\n",
    "promedio_ventas = (\n",
    "    df.groupby(['sucursal', 'producto_id'], observed=True)['unidades_vendidas']\n",
    "    .mean()\n",
    "    .reset_index()\n",
    "    .rename(columns={'unidades_vendidas': 'promedio_historico'})\n",
    ")\n",
    "\n",
    "# Paso 2: merge + detección de quiebres\n",
    "quiebres = (\n",
    "    df.merge(promedio_ventas, on=['sucursal', 'producto_id'], how='left')\n",
    "    .query('unidades_vendidas == 0 and promedio_historico > 0.5')\n",
    "    .copy()\n",
    ")\n",
    "\n",
    "# Paso 3: crea una columna bandera (opcional si vas a usar en dashboard)\n",
    "quiebres['es_quiebre'] = True\n"
   ]
  },
  {
   "cell_type": "markdown",
   "id": "2fd1a2b1",
   "metadata": {},
   "source": [
    "Lo anterior genera un DataFrame vacío al correr `print(quiebres)`. Por ello, se evalúan las posibles razones subyacentes"
   ]
  },
  {
   "cell_type": "code",
   "execution_count": 56,
   "id": "c069f91d",
   "metadata": {},
   "outputs": [
    {
     "data": {
      "text/plain": [
       "count    80.000000\n",
       "mean      0.038776\n",
       "std       0.043973\n",
       "min       0.000000\n",
       "25%       0.000000\n",
       "50%       0.031746\n",
       "75%       0.054705\n",
       "max       0.188209\n",
       "Name: promedio_historico, dtype: float64"
      ]
     },
     "execution_count": 56,
     "metadata": {},
     "output_type": "execute_result"
    }
   ],
   "source": [
    "promedio_ventas['promedio_historico'].describe()\n"
   ]
  },
  {
   "cell_type": "markdown",
   "id": "31e8c5bb",
   "metadata": {},
   "source": [
    "Vemos que la media de `promedio_histórico` es inferior a la condición propuesta de `promedio_historico > 0.5`. Por ello, se procede a reevaluar esta condición con base en el cálculo de un umbral dinámico."
   ]
  },
  {
   "cell_type": "code",
   "execution_count": null,
   "id": "82621bc8",
   "metadata": {},
   "outputs": [
    {
     "data": {
      "text/plain": [
       "np.float64(0.031746031746031744)"
      ]
     },
     "execution_count": 61,
     "metadata": {},
     "output_type": "execute_result"
    }
   ],
   "source": [
    "umbral_dinamico = promedio_ventas['promedio_historico'].quantile(0.50) # \n",
    "# print(umbral_dinamico) # El resultado es 0.0317, lo que refleja proximadamente una venta cada 32 días por producto y sucursal"
   ]
  },
  {
   "cell_type": "markdown",
   "id": "0af57138",
   "metadata": {},
   "source": [
    "Sabiendo esto, se opta por evaluar productos que vendan al menos una vez cada 7 días, así:  \n",
    "umbral = 1 / 7  ≈ 0.14\n"
   ]
  },
  {
   "cell_type": "code",
   "execution_count": 62,
   "id": "bf250484",
   "metadata": {},
   "outputs": [],
   "source": [
    "\n",
    "quiebres = (\n",
    "    df.merge(promedio_ventas, on=['sucursal', 'producto_id'], how='left')\n",
    "    .query(f'unidades_vendidas == 0 and promedio_historico > 0.14')\n",
    "    .copy()\n",
    ")\n"
   ]
  },
  {
   "cell_type": "code",
   "execution_count": 63,
   "id": "e68fbee5",
   "metadata": {},
   "outputs": [
    {
     "name": "stdout",
     "output_type": "stream",
     "text": [
      "Número de quiebres detectados: 2632\n"
     ]
    }
   ],
   "source": [
    "print(f\"Número de quiebres detectados: {len(quiebres)}\")\n"
   ]
  },
  {
   "cell_type": "code",
   "execution_count": 64,
   "id": "438a8b11",
   "metadata": {},
   "outputs": [
    {
     "data": {
      "text/html": [
       "<div>\n",
       "<style scoped>\n",
       "    .dataframe tbody tr th:only-of-type {\n",
       "        vertical-align: middle;\n",
       "    }\n",
       "\n",
       "    .dataframe tbody tr th {\n",
       "        vertical-align: top;\n",
       "    }\n",
       "\n",
       "    .dataframe thead th {\n",
       "        text-align: right;\n",
       "    }\n",
       "</style>\n",
       "<table border=\"1\" class=\"dataframe\">\n",
       "  <thead>\n",
       "    <tr style=\"text-align: right;\">\n",
       "      <th></th>\n",
       "      <th>fecha</th>\n",
       "      <th>sucursal</th>\n",
       "      <th>producto_id</th>\n",
       "      <th>promedio_historico</th>\n",
       "    </tr>\n",
       "  </thead>\n",
       "  <tbody>\n",
       "    <tr>\n",
       "      <th>0</th>\n",
       "      <td>2023-01-01</td>\n",
       "      <td>Sucursal Oeste</td>\n",
       "      <td>P016</td>\n",
       "      <td>0.188209</td>\n",
       "    </tr>\n",
       "    <tr>\n",
       "      <th>18</th>\n",
       "      <td>2023-01-01</td>\n",
       "      <td>Sucursal Oeste</td>\n",
       "      <td>P011</td>\n",
       "      <td>0.183673</td>\n",
       "    </tr>\n",
       "    <tr>\n",
       "      <th>32</th>\n",
       "      <td>2023-01-01</td>\n",
       "      <td>Sucursal Norte</td>\n",
       "      <td>P003</td>\n",
       "      <td>0.143991</td>\n",
       "    </tr>\n",
       "    <tr>\n",
       "      <th>80</th>\n",
       "      <td>2023-01-02</td>\n",
       "      <td>Sucursal Oeste</td>\n",
       "      <td>P016</td>\n",
       "      <td>0.188209</td>\n",
       "    </tr>\n",
       "    <tr>\n",
       "      <th>98</th>\n",
       "      <td>2023-01-02</td>\n",
       "      <td>Sucursal Oeste</td>\n",
       "      <td>P011</td>\n",
       "      <td>0.183673</td>\n",
       "    </tr>\n",
       "  </tbody>\n",
       "</table>\n",
       "</div>"
      ],
      "text/plain": [
       "        fecha        sucursal producto_id  promedio_historico\n",
       "0  2023-01-01  Sucursal Oeste        P016            0.188209\n",
       "18 2023-01-01  Sucursal Oeste        P011            0.183673\n",
       "32 2023-01-01  Sucursal Norte        P003            0.143991\n",
       "80 2023-01-02  Sucursal Oeste        P016            0.188209\n",
       "98 2023-01-02  Sucursal Oeste        P011            0.183673"
      ]
     },
     "execution_count": 64,
     "metadata": {},
     "output_type": "execute_result"
    }
   ],
   "source": [
    "quiebres[['fecha', 'sucursal', 'producto_id', 'promedio_historico']].head()\n"
   ]
  },
  {
   "cell_type": "markdown",
   "id": "c7aa0900",
   "metadata": {},
   "source": [
    "Dada la naturaleza de los datos, con pocos registros de ventas para un lapso prolongado de tiempo, se opta por realizar un análisis semanal en vez de diario:"
   ]
  },
  {
   "cell_type": "code",
   "execution_count": 65,
   "id": "c243f27a",
   "metadata": {},
   "outputs": [
    {
     "name": "stdout",
     "output_type": "stream",
     "text": [
      "Número de quiebres semanales detectados: 5501\n"
     ]
    }
   ],
   "source": [
    "df['semana'] = df['fecha'].dt.to_period('W').apply(lambda r: r.start_time)\n",
    "\n",
    "ventas_semanales = (\n",
    "    df.groupby(['semana', 'sucursal', 'producto_id'], observed=True)['unidades_vendidas']\n",
    "    .sum()\n",
    "    .reset_index()\n",
    ")\n",
    "\n",
    "promedios_semanales = (\n",
    "    ventas_semanales\n",
    "    .groupby(['sucursal', 'producto_id'], observed=True)['unidades_vendidas']\n",
    "    .mean()\n",
    "    .reset_index()\n",
    "    .rename(columns={'unidades_vendidas': 'promedio_semanal'})\n",
    ")\n",
    "\n",
    "quiebres_semanales = (\n",
    "    ventas_semanales\n",
    "    .merge(promedios_semanales, on=['sucursal', 'producto_id'], how='left')\n",
    "    .query('unidades_vendidas == 0 and promedio_semanal > 0.14')  # o ajustable\n",
    ")\n",
    "\n",
    "print(f\"Número de quiebres semanales detectados: {len(quiebres_semanales)}\")"
   ]
  },
  {
   "cell_type": "markdown",
   "id": "d5c8b30e",
   "metadata": {},
   "source": [
    "### Se decide detener aquí la profundización en este punto:"
   ]
  },
  {
   "cell_type": "markdown",
   "id": "49c0a8b6",
   "metadata": {},
   "source": [
    "#### Realidad de la data\n",
    "\n",
    "Supongamos que tenemos:\n",
    "\n",
    "- ~2 años = ~104 semanas  \n",
    "- 10 sucursales  \n",
    "- 50 productos  \n",
    "\n",
    "→ Posibles combinaciones:  \n",
    "`104 semanas × 10 sucursales × 50 productos = 52,000` combinaciones semana–producto–sucursal\n",
    "\n",
    "De esas 52,000 combinaciones:\n",
    "\n",
    "- Solo hay ~100 registros reales de venta  \n",
    "- Por tanto, ~51,900 combinaciones no tuvieron venta esa semana\n",
    "\n",
    "Y si el promedio semanal de un producto-sucursal supera **0.14** (≈ 1 venta cada 7 semanas),  \n",
    "entonces **casi cualquier semana sin venta podría ser considerada como quiebre**,  \n",
    "aunque en realidad no haya una demanda sostenida.\n",
    "\n",
    "**Conclusión**: El análisis de quiebres pierde validez en este contexto debido a la baja densidad de datos. El volumen de quiebres está inflado por escasez de datos, no porque realmente haya ocurrido una ruptura de inventario.\n"
   ]
  },
  {
   "cell_type": "markdown",
   "id": "36bb66ab",
   "metadata": {},
   "source": [
    "## Análisis de proveedores"
   ]
  },
  {
   "cell_type": "code",
   "execution_count": 77,
   "id": "e8bfc625",
   "metadata": {},
   "outputs": [],
   "source": [
    "# Cargar el DataFrame de proveedores\n",
    "file_path = '../data/raw/base_datos_colombia.xlsx'\n",
    "df_proveedores = pd.read_excel(file_path, sheet_name='proveedores', engine='openpyxl')\n"
   ]
  },
  {
   "cell_type": "markdown",
   "id": "3ae2d8fa",
   "metadata": {},
   "source": [
    "### 1. Z-Score"
   ]
  },
  {
   "cell_type": "code",
   "execution_count": null,
   "id": "2ff65ce3",
   "metadata": {},
   "outputs": [],
   "source": [
    "# Análisis por z-score\n",
    "df_proveedores['z_calificacion'] = zscore(df_proveedores['calificacion_proveedor'])\n",
    "df_proveedores['z_plazo'] = zscore(df_proveedores['plazo_entrega_dias'])\n",
    "\n",
    "# Proveedores con calificación muy baja (z < -1)\n",
    "baja_calif_z = df_proveedores[df_proveedores['z_calificacion'] < -1]\n",
    "\n",
    "# Proveedores con plazos muy largos (z > 1)\n",
    "plazos_largos_z = df_proveedores[df_proveedores['z_plazo'] > 1]"
   ]
  },
  {
   "cell_type": "markdown",
   "id": "6a0272ff",
   "metadata": {},
   "source": [
    "### 2. Análisis por quantiles"
   ]
  },
  {
   "cell_type": "code",
   "execution_count": 79,
   "id": "789399e8",
   "metadata": {},
   "outputs": [],
   "source": [
    "# Análisis por quantiles\n",
    "# Calificación\n",
    "q1_calif = df_proveedores['calificacion_proveedor'].quantile(0.25)\n",
    "q3_calif = df_proveedores['calificacion_proveedor'].quantile(0.75)\n",
    "iqr_calif = q3_calif - q1_calif\n",
    "baja_calif_iqr = df_proveedores[df_proveedores['calificacion_proveedor'] < (q1_calif - 1.5 * iqr_calif)]\n",
    "\n",
    "# Plazos\n",
    "q1_plazo = df_proveedores['plazo_entrega_dias'].quantile(0.25)\n",
    "q3_plazo = df_proveedores['plazo_entrega_dias'].quantile(0.75)\n",
    "iqr_plazo = q3_plazo - q1_plazo\n",
    "plazos_largos_iqr = df_proveedores[df_proveedores['plazo_entrega_dias'] > (q3_plazo + 1.5 * iqr_plazo)]\n"
   ]
  },
  {
   "cell_type": "code",
   "execution_count": 82,
   "id": "16706db8",
   "metadata": {},
   "outputs": [],
   "source": [
    "df_proveedores['riesgo_entrega'] = df_proveedores['plazo_entrega_dias'] > (q3_plazo + 1.5 * iqr_plazo)\n",
    "df_proveedores['riesgo_calidad'] = df_proveedores['calificacion_proveedor'] < (q1_calif - 1.5 * iqr_calif)\n",
    "df_proveedores['proveedor_critico'] = df_proveedores['riesgo_entrega'] & df_proveedores['riesgo_calidad']\n"
   ]
  },
  {
   "cell_type": "markdown",
   "id": "0e2b8a11",
   "metadata": {},
   "source": [
    "### Análisis:"
   ]
  },
  {
   "cell_type": "markdown",
   "id": "75c809eb",
   "metadata": {},
   "source": [
    "La evaluación estadística de los proveedores se realizó utilizando métricas robustas como el z-score y el rango intercuartílico (IQR) para identificar comportamientos atípicos. Si bien la mayoría de los proveedores se mantienen dentro de rangos normales tanto en calificación como en tiempos de entrega, se identificó al proveedor V010 como un caso especial por presentar un plazo de entrega significativamente superior al promedio. Aunque su calificación es alta, el riesgo logístico asociado a su nivel de demora lo convierte en un candidato para revisión o renegociación, especialmente si su portafolio incluye productos de alta rotación o criticidad operativa. La combinación de métricas objetivas y contexto de negocio es clave para tomar decisiones estratégicas en la gestión de proveedores."
   ]
  },
  {
   "cell_type": "markdown",
   "id": "f528a324",
   "metadata": {},
   "source": [
    "# Carga de outputs"
   ]
  },
  {
   "cell_type": "code",
   "execution_count": 87,
   "id": "f2fe1d3a",
   "metadata": {},
   "outputs": [],
   "source": [
    "top10_rotacion.to_csv('../data/processed/top10_rotacion.csv', index=False)\n",
    "df_proveedores.to_csv('../data/processed/proveedores_riesgo.csv', index=False)"
   ]
  }
 ],
 "metadata": {
  "kernelspec": {
   "display_name": ".venv",
   "language": "python",
   "name": "python3"
  },
  "language_info": {
   "codemirror_mode": {
    "name": "ipython",
    "version": 3
   },
   "file_extension": ".py",
   "mimetype": "text/x-python",
   "name": "python",
   "nbconvert_exporter": "python",
   "pygments_lexer": "ipython3",
   "version": "3.13.1"
  }
 },
 "nbformat": 4,
 "nbformat_minor": 5
}
